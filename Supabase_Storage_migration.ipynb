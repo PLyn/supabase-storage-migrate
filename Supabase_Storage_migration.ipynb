{
  "nbformat": 4,
  "nbformat_minor": 0,
  "metadata": {
    "colab": {
      "provenance": [],
      "toc_visible": true,
      "authorship_tag": "ABX9TyNcbTbsFh/C58xc1OmUMOPY",
      "include_colab_link": true
    },
    "kernelspec": {
      "name": "python3",
      "display_name": "Python 3"
    },
    "language_info": {
      "name": "python"
    }
  },
  "cells": [
    {
      "cell_type": "markdown",
      "metadata": {
        "id": "view-in-github",
        "colab_type": "text"
      },
      "source": [
        "<a href=\"https://colab.research.google.com/github/PLyn/supabase-storage-migrate/blob/main/Supabase_Storage_migration.ipynb\" target=\"_parent\"><img src=\"https://colab.research.google.com/assets/colab-badge.svg\" alt=\"Open In Colab\"/></a>"
      ]
    },
    {
      "cell_type": "markdown",
      "source": [
        "### Step 1 - Install required packages for the migration process"
      ],
      "metadata": {
        "id": "Altqt5LaoXwx"
      }
    },
    {
      "cell_type": "code",
      "source": [
        "!apt-get update && apt-get install -y libmagic1\n",
        "!pip install python-magic supabase"
      ],
      "metadata": {
        "id": "qPeREzcLoipj",
        "outputId": "7822c07c-6e2a-43ff-ca3d-4532e3a87e09",
        "colab": {
          "base_uri": "https://localhost:8080/"
        }
      },
      "execution_count": 2,
      "outputs": [
        {
          "output_type": "stream",
          "name": "stdout",
          "text": [
            "\r0% [Working]\r            \rHit:1 http://archive.ubuntu.com/ubuntu jammy InRelease\n",
            "\r0% [Waiting for headers] [Waiting for headers] [Waiting for headers] [Waiting for headers] [Waiting \r                                                                                                    \rHit:2 https://developer.download.nvidia.com/compute/cuda/repos/ubuntu2204/x86_64  InRelease\n",
            "\r0% [Waiting for headers] [Waiting for headers] [Waiting for headers] [Waiting for headers] [Connecte\r                                                                                                    \rGet:3 http://archive.ubuntu.com/ubuntu jammy-updates InRelease [128 kB]\n",
            "Get:4 https://cloud.r-project.org/bin/linux/ubuntu jammy-cran40/ InRelease [3,626 B]\n",
            "Get:5 http://security.ubuntu.com/ubuntu jammy-security InRelease [129 kB]\n",
            "Get:6 https://r2u.stat.illinois.edu/ubuntu jammy InRelease [6,555 B]\n",
            "Get:7 http://archive.ubuntu.com/ubuntu jammy-backports InRelease [127 kB]\n",
            "Hit:8 https://ppa.launchpadcontent.net/deadsnakes/ppa/ubuntu jammy InRelease\n",
            "Hit:9 https://ppa.launchpadcontent.net/graphics-drivers/ppa/ubuntu jammy InRelease\n",
            "Hit:10 https://ppa.launchpadcontent.net/ubuntugis/ppa/ubuntu jammy InRelease\n",
            "Get:11 https://r2u.stat.illinois.edu/ubuntu jammy/main amd64 Packages [2,631 kB]\n",
            "Get:12 https://r2u.stat.illinois.edu/ubuntu jammy/main all Packages [8,566 kB]\n",
            "Get:13 http://archive.ubuntu.com/ubuntu jammy-updates/universe amd64 Packages [1,517 kB]\n",
            "Get:14 http://archive.ubuntu.com/ubuntu jammy-updates/restricted amd64 Packages [3,633 kB]\n",
            "Get:15 http://archive.ubuntu.com/ubuntu jammy-updates/main amd64 Packages [2,840 kB]\n",
            "Get:16 http://archive.ubuntu.com/ubuntu jammy-backports/universe amd64 Packages [33.8 kB]\n",
            "Get:17 http://archive.ubuntu.com/ubuntu jammy-backports/main amd64 Packages [81.4 kB]\n",
            "Get:18 http://security.ubuntu.com/ubuntu jammy-security/restricted amd64 Packages [3,448 kB]\n",
            "Get:19 http://security.ubuntu.com/ubuntu jammy-security/universe amd64 Packages [1,226 kB]\n",
            "Get:20 http://security.ubuntu.com/ubuntu jammy-security/main amd64 Packages [2,517 kB]\n",
            "Fetched 26.9 MB in 5s (5,050 kB/s)\n",
            "Reading package lists... Done\n",
            "W: Skipping acquire of configured file 'main/source/Sources' as repository 'https://r2u.stat.illinois.edu/ubuntu jammy InRelease' does not seem to provide it (sources.list entry misspelt?)\n",
            "Reading package lists... Done\n",
            "Building dependency tree... Done\n",
            "Reading state information... Done\n",
            "libmagic1 is already the newest version (1:5.41-3ubuntu0.1).\n",
            "libmagic1 set to manually installed.\n",
            "0 upgraded, 0 newly installed, 0 to remove and 50 not upgraded.\n",
            "Collecting python-magic\n",
            "  Downloading python_magic-0.4.27-py2.py3-none-any.whl.metadata (5.8 kB)\n",
            "Collecting supabase\n",
            "  Downloading supabase-2.10.0-py3-none-any.whl.metadata (10 kB)\n",
            "Collecting gotrue<3.0.0,>=2.10.0 (from supabase)\n",
            "  Downloading gotrue-2.11.0-py3-none-any.whl.metadata (6.0 kB)\n",
            "Collecting httpx<0.28,>=0.26 (from supabase)\n",
            "  Downloading httpx-0.27.2-py3-none-any.whl.metadata (7.1 kB)\n",
            "Collecting postgrest<0.19,>=0.18 (from supabase)\n",
            "  Downloading postgrest-0.18.0-py3-none-any.whl.metadata (3.4 kB)\n",
            "Collecting realtime<3.0.0,>=2.0.0 (from supabase)\n",
            "  Downloading realtime-2.0.6-py3-none-any.whl.metadata (6.7 kB)\n",
            "Collecting storage3<0.10.0,>=0.9.0 (from supabase)\n",
            "  Downloading storage3-0.9.0-py3-none-any.whl.metadata (1.8 kB)\n",
            "Collecting supafunc<0.8.0,>=0.7.0 (from supabase)\n",
            "  Downloading supafunc-0.7.0-py3-none-any.whl.metadata (1.1 kB)\n",
            "Requirement already satisfied: pydantic<3,>=1.10 in /usr/local/lib/python3.10/dist-packages (from gotrue<3.0.0,>=2.10.0->supabase) (2.10.3)\n",
            "Requirement already satisfied: anyio in /usr/local/lib/python3.10/dist-packages (from httpx<0.28,>=0.26->supabase) (3.7.1)\n",
            "Requirement already satisfied: certifi in /usr/local/lib/python3.10/dist-packages (from httpx<0.28,>=0.26->supabase) (2024.12.14)\n",
            "Requirement already satisfied: httpcore==1.* in /usr/local/lib/python3.10/dist-packages (from httpx<0.28,>=0.26->supabase) (1.0.7)\n",
            "Requirement already satisfied: idna in /usr/local/lib/python3.10/dist-packages (from httpx<0.28,>=0.26->supabase) (3.10)\n",
            "Requirement already satisfied: sniffio in /usr/local/lib/python3.10/dist-packages (from httpx<0.28,>=0.26->supabase) (1.3.1)\n",
            "Requirement already satisfied: h11<0.15,>=0.13 in /usr/local/lib/python3.10/dist-packages (from httpcore==1.*->httpx<0.28,>=0.26->supabase) (0.14.0)\n",
            "Collecting deprecation<3.0.0,>=2.1.0 (from postgrest<0.19,>=0.18->supabase)\n",
            "  Downloading deprecation-2.1.0-py2.py3-none-any.whl.metadata (4.6 kB)\n",
            "Requirement already satisfied: strenum<0.5.0,>=0.4.9 in /usr/local/lib/python3.10/dist-packages (from postgrest<0.19,>=0.18->supabase) (0.4.15)\n",
            "Requirement already satisfied: aiohttp<4.0.0,>=3.10.10 in /usr/local/lib/python3.10/dist-packages (from realtime<3.0.0,>=2.0.0->supabase) (3.11.10)\n",
            "Requirement already satisfied: python-dateutil<3.0.0,>=2.8.1 in /usr/local/lib/python3.10/dist-packages (from realtime<3.0.0,>=2.0.0->supabase) (2.8.2)\n",
            "Requirement already satisfied: typing-extensions<5.0.0,>=4.12.2 in /usr/local/lib/python3.10/dist-packages (from realtime<3.0.0,>=2.0.0->supabase) (4.12.2)\n",
            "Collecting websockets<14,>=11 (from realtime<3.0.0,>=2.0.0->supabase)\n",
            "  Downloading websockets-13.1-cp310-cp310-manylinux_2_5_x86_64.manylinux1_x86_64.manylinux_2_17_x86_64.manylinux2014_x86_64.whl.metadata (6.8 kB)\n",
            "Requirement already satisfied: aiohappyeyeballs>=2.3.0 in /usr/local/lib/python3.10/dist-packages (from aiohttp<4.0.0,>=3.10.10->realtime<3.0.0,>=2.0.0->supabase) (2.4.4)\n",
            "Requirement already satisfied: aiosignal>=1.1.2 in /usr/local/lib/python3.10/dist-packages (from aiohttp<4.0.0,>=3.10.10->realtime<3.0.0,>=2.0.0->supabase) (1.3.2)\n",
            "Requirement already satisfied: async-timeout<6.0,>=4.0 in /usr/local/lib/python3.10/dist-packages (from aiohttp<4.0.0,>=3.10.10->realtime<3.0.0,>=2.0.0->supabase) (4.0.3)\n",
            "Requirement already satisfied: attrs>=17.3.0 in /usr/local/lib/python3.10/dist-packages (from aiohttp<4.0.0,>=3.10.10->realtime<3.0.0,>=2.0.0->supabase) (24.3.0)\n",
            "Requirement already satisfied: frozenlist>=1.1.1 in /usr/local/lib/python3.10/dist-packages (from aiohttp<4.0.0,>=3.10.10->realtime<3.0.0,>=2.0.0->supabase) (1.5.0)\n",
            "Requirement already satisfied: multidict<7.0,>=4.5 in /usr/local/lib/python3.10/dist-packages (from aiohttp<4.0.0,>=3.10.10->realtime<3.0.0,>=2.0.0->supabase) (6.1.0)\n",
            "Requirement already satisfied: propcache>=0.2.0 in /usr/local/lib/python3.10/dist-packages (from aiohttp<4.0.0,>=3.10.10->realtime<3.0.0,>=2.0.0->supabase) (0.2.1)\n",
            "Requirement already satisfied: yarl<2.0,>=1.17.0 in /usr/local/lib/python3.10/dist-packages (from aiohttp<4.0.0,>=3.10.10->realtime<3.0.0,>=2.0.0->supabase) (1.18.3)\n",
            "Requirement already satisfied: packaging in /usr/local/lib/python3.10/dist-packages (from deprecation<3.0.0,>=2.1.0->postgrest<0.19,>=0.18->supabase) (24.2)\n",
            "Collecting h2<5,>=3 (from httpx[http2]<0.28,>=0.26->gotrue<3.0.0,>=2.10.0->supabase)\n",
            "  Downloading h2-4.1.0-py3-none-any.whl.metadata (3.6 kB)\n",
            "Requirement already satisfied: annotated-types>=0.6.0 in /usr/local/lib/python3.10/dist-packages (from pydantic<3,>=1.10->gotrue<3.0.0,>=2.10.0->supabase) (0.7.0)\n",
            "Requirement already satisfied: pydantic-core==2.27.1 in /usr/local/lib/python3.10/dist-packages (from pydantic<3,>=1.10->gotrue<3.0.0,>=2.10.0->supabase) (2.27.1)\n",
            "Requirement already satisfied: six>=1.5 in /usr/local/lib/python3.10/dist-packages (from python-dateutil<3.0.0,>=2.8.1->realtime<3.0.0,>=2.0.0->supabase) (1.17.0)\n",
            "Requirement already satisfied: exceptiongroup in /usr/local/lib/python3.10/dist-packages (from anyio->httpx<0.28,>=0.26->supabase) (1.2.2)\n",
            "Collecting hyperframe<7,>=6.0 (from h2<5,>=3->httpx[http2]<0.28,>=0.26->gotrue<3.0.0,>=2.10.0->supabase)\n",
            "  Downloading hyperframe-6.0.1-py3-none-any.whl.metadata (2.7 kB)\n",
            "Collecting hpack<5,>=4.0 (from h2<5,>=3->httpx[http2]<0.28,>=0.26->gotrue<3.0.0,>=2.10.0->supabase)\n",
            "  Downloading hpack-4.0.0-py3-none-any.whl.metadata (2.5 kB)\n",
            "Downloading python_magic-0.4.27-py2.py3-none-any.whl (13 kB)\n",
            "Downloading supabase-2.10.0-py3-none-any.whl (16 kB)\n",
            "Downloading gotrue-2.11.0-py3-none-any.whl (48 kB)\n",
            "\u001b[2K   \u001b[90m━━━━━━━━━━━━━━━━━━━━━━━━━━━━━━━━━━━━━━━━\u001b[0m \u001b[32m48.9/48.9 kB\u001b[0m \u001b[31m2.3 MB/s\u001b[0m eta \u001b[36m0:00:00\u001b[0m\n",
            "\u001b[?25hDownloading httpx-0.27.2-py3-none-any.whl (76 kB)\n",
            "\u001b[2K   \u001b[90m━━━━━━━━━━━━━━━━━━━━━━━━━━━━━━━━━━━━━━━━\u001b[0m \u001b[32m76.4/76.4 kB\u001b[0m \u001b[31m3.2 MB/s\u001b[0m eta \u001b[36m0:00:00\u001b[0m\n",
            "\u001b[?25hDownloading postgrest-0.18.0-py3-none-any.whl (21 kB)\n",
            "Downloading realtime-2.0.6-py3-none-any.whl (20 kB)\n",
            "Downloading storage3-0.9.0-py3-none-any.whl (16 kB)\n",
            "Downloading supafunc-0.7.0-py3-none-any.whl (6.9 kB)\n",
            "Downloading deprecation-2.1.0-py2.py3-none-any.whl (11 kB)\n",
            "Downloading websockets-13.1-cp310-cp310-manylinux_2_5_x86_64.manylinux1_x86_64.manylinux_2_17_x86_64.manylinux2014_x86_64.whl (164 kB)\n",
            "\u001b[2K   \u001b[90m━━━━━━━━━━━━━━━━━━━━━━━━━━━━━━━━━━━━━━━━\u001b[0m \u001b[32m164.1/164.1 kB\u001b[0m \u001b[31m8.1 MB/s\u001b[0m eta \u001b[36m0:00:00\u001b[0m\n",
            "\u001b[?25hDownloading h2-4.1.0-py3-none-any.whl (57 kB)\n",
            "\u001b[2K   \u001b[90m━━━━━━━━━━━━━━━━━━━━━━━━━━━━━━━━━━━━━━━━\u001b[0m \u001b[32m57.5/57.5 kB\u001b[0m \u001b[31m4.0 MB/s\u001b[0m eta \u001b[36m0:00:00\u001b[0m\n",
            "\u001b[?25hDownloading hpack-4.0.0-py3-none-any.whl (32 kB)\n",
            "Downloading hyperframe-6.0.1-py3-none-any.whl (12 kB)\n",
            "Installing collected packages: websockets, python-magic, hyperframe, hpack, deprecation, httpx, h2, supafunc, storage3, realtime, postgrest, gotrue, supabase\n",
            "  Attempting uninstall: websockets\n",
            "    Found existing installation: websockets 14.1\n",
            "    Uninstalling websockets-14.1:\n",
            "      Successfully uninstalled websockets-14.1\n",
            "  Attempting uninstall: httpx\n",
            "    Found existing installation: httpx 0.28.1\n",
            "    Uninstalling httpx-0.28.1:\n",
            "      Successfully uninstalled httpx-0.28.1\n",
            "Successfully installed deprecation-2.1.0 gotrue-2.11.0 h2-4.1.0 hpack-4.0.0 httpx-0.27.2 hyperframe-6.0.1 postgrest-0.18.0 python-magic-0.4.27 realtime-2.0.6 storage3-0.9.0 supabase-2.10.0 supafunc-0.7.0 websockets-13.1\n"
          ]
        }
      ]
    },
    {
      "cell_type": "markdown",
      "source": [
        "### Step 2 - Import required packages"
      ],
      "metadata": {
        "id": "8TWI39reWh7Q"
      }
    },
    {
      "cell_type": "code",
      "source": [
        "import re\n",
        "import os\n",
        "import magic\n",
        "import shutil\n",
        "import zipfile\n",
        "from typing import Optional\n",
        "from pathlib import Path\n",
        "from google.colab import files\n",
        "from supabase import create_client\n",
        "\n",
        "print(\"✓ Imports are set!\")"
      ],
      "metadata": {
        "id": "PuGNb3PrXRat",
        "outputId": "2da3d6d8-e8e6-4f01-e27f-8d8899472f16",
        "colab": {
          "base_uri": "https://localhost:8080/"
        }
      },
      "execution_count": 3,
      "outputs": [
        {
          "output_type": "stream",
          "name": "stdout",
          "text": [
            "✓ Imports are set!\n"
          ]
        }
      ]
    },
    {
      "cell_type": "markdown",
      "source": [
        "### Step 3 - Setup Supabase database credentials"
      ],
      "metadata": {
        "id": "6Aj4aB8JWnz6"
      }
    },
    {
      "cell_type": "code",
      "source": [
        "NEW_PROJECT_URL = \"https://[PROJECT_REF].supabase.co\" # @param {type:\"string\"}\n",
        "NEW_SERVICE_KEY = \"SERIVCE_ROLE_KEY\" # @param {type:\"string\"}\n",
        "\n",
        "print(\"✓ New Project Credentials are set!\")"
      ],
      "metadata": {
        "id": "nbFh011YYMHH",
        "outputId": "c5e36df8-6c28-4209-fe60-6b9579939c1d",
        "colab": {
          "base_uri": "https://localhost:8080/"
        }
      },
      "execution_count": 4,
      "outputs": [
        {
          "output_type": "stream",
          "name": "stdout",
          "text": [
            "✓ New Project Credentials are set!\n"
          ]
        }
      ]
    },
    {
      "cell_type": "markdown",
      "source": [
        "### Step 4 - Storage migration script"
      ],
      "metadata": {
        "id": "HX03RDkuZM-r"
      }
    },
    {
      "cell_type": "code",
      "execution_count": 5,
      "metadata": {
        "id": "ZzYfJ1W0oE8p",
        "outputId": "00cfbd49-6584-4305-d97d-eee2fb5fad2a",
        "colab": {
          "base_uri": "https://localhost:8080/",
          "height": 428
        }
      },
      "outputs": [
        {
          "output_type": "error",
          "ename": "Exception",
          "evalue": "Failed to initialize Supabase client: Invalid API key",
          "traceback": [
            "\u001b[0;31m---------------------------------------------------------------------------\u001b[0m",
            "\u001b[0;31mSupabaseException\u001b[0m                         Traceback (most recent call last)",
            "\u001b[0;32m<ipython-input-5-61347d306491>\u001b[0m in \u001b[0;36m<cell line: 2>\u001b[0;34m()\u001b[0m\n\u001b[1;32m      2\u001b[0m \u001b[0;32mtry\u001b[0m\u001b[0;34m:\u001b[0m\u001b[0;34m\u001b[0m\u001b[0;34m\u001b[0m\u001b[0m\n\u001b[0;32m----> 3\u001b[0;31m     \u001b[0mnew_supabase_client\u001b[0m \u001b[0;34m=\u001b[0m \u001b[0mcreate_client\u001b[0m\u001b[0;34m(\u001b[0m\u001b[0mNEW_PROJECT_URL\u001b[0m\u001b[0;34m,\u001b[0m \u001b[0mNEW_SERVICE_KEY\u001b[0m\u001b[0;34m)\u001b[0m\u001b[0;34m\u001b[0m\u001b[0;34m\u001b[0m\u001b[0m\n\u001b[0m\u001b[1;32m      4\u001b[0m \u001b[0;32mexcept\u001b[0m \u001b[0mException\u001b[0m \u001b[0;32mas\u001b[0m \u001b[0me\u001b[0m\u001b[0;34m:\u001b[0m\u001b[0;34m\u001b[0m\u001b[0;34m\u001b[0m\u001b[0m\n",
            "\u001b[0;32m/usr/local/lib/python3.10/dist-packages/supabase/_sync/client.py\u001b[0m in \u001b[0;36mcreate_client\u001b[0;34m(supabase_url, supabase_key, options)\u001b[0m\n\u001b[1;32m    334\u001b[0m     \"\"\"\n\u001b[0;32m--> 335\u001b[0;31m     return SyncClient.create(\n\u001b[0m\u001b[1;32m    336\u001b[0m         \u001b[0msupabase_url\u001b[0m\u001b[0;34m=\u001b[0m\u001b[0msupabase_url\u001b[0m\u001b[0;34m,\u001b[0m \u001b[0msupabase_key\u001b[0m\u001b[0;34m=\u001b[0m\u001b[0msupabase_key\u001b[0m\u001b[0;34m,\u001b[0m \u001b[0moptions\u001b[0m\u001b[0;34m=\u001b[0m\u001b[0moptions\u001b[0m\u001b[0;34m\u001b[0m\u001b[0;34m\u001b[0m\u001b[0m\n",
            "\u001b[0;32m/usr/local/lib/python3.10/dist-packages/supabase/_sync/client.py\u001b[0m in \u001b[0;36mcreate\u001b[0;34m(cls, supabase_url, supabase_key, options)\u001b[0m\n\u001b[1;32m    101\u001b[0m         \u001b[0mauth_header\u001b[0m \u001b[0;34m=\u001b[0m \u001b[0moptions\u001b[0m\u001b[0;34m.\u001b[0m\u001b[0mheaders\u001b[0m\u001b[0;34m.\u001b[0m\u001b[0mget\u001b[0m\u001b[0;34m(\u001b[0m\u001b[0;34m\"Authorization\"\u001b[0m\u001b[0;34m)\u001b[0m \u001b[0;32mif\u001b[0m \u001b[0moptions\u001b[0m \u001b[0;32melse\u001b[0m \u001b[0;32mNone\u001b[0m\u001b[0;34m\u001b[0m\u001b[0;34m\u001b[0m\u001b[0m\n\u001b[0;32m--> 102\u001b[0;31m         \u001b[0mclient\u001b[0m \u001b[0;34m=\u001b[0m \u001b[0mcls\u001b[0m\u001b[0;34m(\u001b[0m\u001b[0msupabase_url\u001b[0m\u001b[0;34m,\u001b[0m \u001b[0msupabase_key\u001b[0m\u001b[0;34m,\u001b[0m \u001b[0moptions\u001b[0m\u001b[0;34m)\u001b[0m\u001b[0;34m\u001b[0m\u001b[0;34m\u001b[0m\u001b[0m\n\u001b[0m\u001b[1;32m    103\u001b[0m \u001b[0;34m\u001b[0m\u001b[0m\n",
            "\u001b[0;32m/usr/local/lib/python3.10/dist-packages/supabase/_sync/client.py\u001b[0m in \u001b[0;36m__init__\u001b[0;34m(self, supabase_url, supabase_key, options)\u001b[0m\n\u001b[1;32m     63\u001b[0m         ):\n\u001b[0;32m---> 64\u001b[0;31m             \u001b[0;32mraise\u001b[0m \u001b[0mSupabaseException\u001b[0m\u001b[0;34m(\u001b[0m\u001b[0;34m\"Invalid API key\"\u001b[0m\u001b[0;34m)\u001b[0m\u001b[0;34m\u001b[0m\u001b[0;34m\u001b[0m\u001b[0m\n\u001b[0m\u001b[1;32m     65\u001b[0m \u001b[0;34m\u001b[0m\u001b[0m\n",
            "\u001b[0;31mSupabaseException\u001b[0m: Invalid API key",
            "\nDuring handling of the above exception, another exception occurred:\n",
            "\u001b[0;31mException\u001b[0m                                 Traceback (most recent call last)",
            "\u001b[0;32m<ipython-input-5-61347d306491>\u001b[0m in \u001b[0;36m<cell line: 2>\u001b[0;34m()\u001b[0m\n\u001b[1;32m      3\u001b[0m     \u001b[0mnew_supabase_client\u001b[0m \u001b[0;34m=\u001b[0m \u001b[0mcreate_client\u001b[0m\u001b[0;34m(\u001b[0m\u001b[0mNEW_PROJECT_URL\u001b[0m\u001b[0;34m,\u001b[0m \u001b[0mNEW_SERVICE_KEY\u001b[0m\u001b[0;34m)\u001b[0m\u001b[0;34m\u001b[0m\u001b[0;34m\u001b[0m\u001b[0m\n\u001b[1;32m      4\u001b[0m \u001b[0;32mexcept\u001b[0m \u001b[0mException\u001b[0m \u001b[0;32mas\u001b[0m \u001b[0me\u001b[0m\u001b[0;34m:\u001b[0m\u001b[0;34m\u001b[0m\u001b[0;34m\u001b[0m\u001b[0m\n\u001b[0;32m----> 5\u001b[0;31m     \u001b[0;32mraise\u001b[0m \u001b[0mException\u001b[0m\u001b[0;34m(\u001b[0m\u001b[0;34mf\"Failed to initialize Supabase client: {str(e)}\"\u001b[0m\u001b[0;34m)\u001b[0m\u001b[0;34m\u001b[0m\u001b[0;34m\u001b[0m\u001b[0m\n\u001b[0m\u001b[1;32m      6\u001b[0m \u001b[0;34m\u001b[0m\u001b[0m\n\u001b[1;32m      7\u001b[0m \u001b[0;31m# Upload and extract files\u001b[0m\u001b[0;34m\u001b[0m\u001b[0;34m\u001b[0m\u001b[0m\n",
            "\u001b[0;31mException\u001b[0m: Failed to initialize Supabase client: Invalid API key"
          ]
        }
      ],
      "source": [
        "# Initialize Supabase client\n",
        "try:\n",
        "    new_supabase_client = create_client(NEW_PROJECT_URL, NEW_SERVICE_KEY)\n",
        "except Exception as e:\n",
        "    raise Exception(f\"Failed to initialize Supabase client: {str(e)}\")\n",
        "\n",
        "# Upload and extract files\n",
        "local_root_path = upload_to_colab()\n",
        "\n",
        "# List existing buckets\n",
        "try:\n",
        "    buckets = new_supabase_client.storage.list_buckets()\n",
        "except Exception as e:\n",
        "    raise Exception(f\"Failed to list buckets: {str(e)}\")\n",
        "\n",
        "if not local_root_path.exists():\n",
        "    raise FileNotFoundError(f\"Local root path does not exist: {local_root_path}\")\n",
        "\n",
        "print(\"\\nFound the following buckets:\")\n",
        "for bucket in buckets:\n",
        "    print(f\"- {bucket.name}\")\n",
        "\n",
        "for bucket in buckets:\n",
        "    bucket_name = bucket.name\n",
        "    local_bucket_path = local_root_path /bucket_name\n",
        "    print(f\"\\nLocal path: '{local_bucket_path}'\")\n",
        "    if not local_bucket_path.exists():\n",
        "        print(f\"\\nLocal path for bucket '{bucket_name}' does not exist. Skipping.\")\n",
        "        continue\n",
        "\n",
        "    print(f\"\\nProcessing bucket '{bucket_name}'...\")\n",
        "\n",
        "    # Create bucket if it doesn't exist\n",
        "    try:\n",
        "        new_supabase_client.storage.create_bucket(\n",
        "            bucket_name,\n",
        "            options={\"public\": bucket.public}\n",
        "        )\n",
        "        print(f\"Bucket '{bucket_name}' created successfully.\")\n",
        "    except Exception as e:\n",
        "        if \"already exists\" not in str(e).lower():\n",
        "            print(f\"Error creating bucket '{bucket_name}': {str(e)}\")\n",
        "            continue\n",
        "\n",
        "    # Upload files\n",
        "    upload_local_files_to_bucket(\n",
        "        new_supabase_client,\n",
        "        bucket_name,\n",
        "        str(local_bucket_path),\n",
        "        skip_existing=True\n",
        "    )"
      ]
    },
    {
      "cell_type": "markdown",
      "source": [
        "### Function definitions for migration script - Required for Step 4"
      ],
      "metadata": {
        "id": "HxHNh_7Sasrb"
      }
    },
    {
      "cell_type": "code",
      "source": [
        "def upload_to_colab():\n",
        "    \"\"\"Upload and extract ZIP file containing storage buckets\"\"\"\n",
        "    print(\"Please select your storage ZIP file containing all bucket folders...\")\n",
        "    uploaded = files.upload()\n",
        "\n",
        "    if not uploaded:\n",
        "        raise ValueError(\"No file was uploaded\")\n",
        "\n",
        "    # Get the first uploaded file\n",
        "    zip_filename = next(iter(uploaded))\n",
        "\n",
        "    # Create a temporary directory for extraction\n",
        "    temp_dir = Path(\"/content/storage_temp\")\n",
        "    if temp_dir.exists():\n",
        "        shutil.rmtree(temp_dir)\n",
        "    temp_dir.mkdir()\n",
        "\n",
        "    # Extract the ZIP file\n",
        "    with zipfile.ZipFile(zip_filename, 'r') as zip_ref:\n",
        "        zip_ref.extractall(temp_dir)\n",
        "\n",
        "    print(f\"\\nFiles extracted to {temp_dir}\")\n",
        "\n",
        "    root_candidates = [d for d in temp_dir.iterdir() if d.is_dir()]\n",
        "    root_dir = root_candidates[0]\n",
        "\n",
        "    print(f\"\\nNew root dir is {root_dir}\")\n",
        "\n",
        "    return root_dir\n",
        "\n",
        "def convert_supavisor_string_to_api_url(supavisor_url: str) -> str:\n",
        "    \"\"\"Convert Supabase Supavisor URL to API URL format.\"\"\"\n",
        "    match = re.match(\n",
        "        r\"postgres:\\/\\/postgres\\.([^:]+):[^@]+@aws-\\d+-([^\\.]+)\\.pooler\\.supabase\\.com:\\d+\\/([^\\/]+)\",\n",
        "        supavisor_url\n",
        "    )\n",
        "\n",
        "    if not match:\n",
        "        raise ValueError(\"Invalid Supavisor URL format\")\n",
        "\n",
        "    project_ref = match.group(1)\n",
        "    return f\"https://{project_ref}.supabase.co\"\n",
        "\n",
        "def upload_local_files_to_bucket(\n",
        "    client,\n",
        "    bucket_name: str,\n",
        "    local_bucket_path: str,\n",
        "    skip_existing: bool = False\n",
        ") -> None:\n",
        "    \"\"\"Upload files from a local directory to a specific Supabase storage bucket.\"\"\"\n",
        "    local_bucket_path = Path(local_bucket_path)\n",
        "\n",
        "    if not local_bucket_path.exists():\n",
        "        raise FileNotFoundError(f\"Local bucket path does not exist: {local_bucket_path}\")\n",
        "\n",
        "    total_files = sum(1 for _ in local_bucket_path.rglob('*') if _.is_file())\n",
        "    processed_files = 0\n",
        "\n",
        "    for file_path in local_bucket_path.rglob('*'):\n",
        "        if not file_path.is_file():\n",
        "            continue\n",
        "\n",
        "        try:\n",
        "            relative_path = str(file_path.relative_to(local_bucket_path))\n",
        "            remote_path = relative_path.replace(os.sep, '/')\n",
        "\n",
        "            processed_files += 1\n",
        "            print(f\"\\rProgress: {processed_files}/{total_files} files\", end=\"\")\n",
        "\n",
        "            if skip_existing:\n",
        "                try:\n",
        "                    client.storage.from_(bucket_name).download(remote_path)\n",
        "                    print(f\"\\nSkipping existing file: {remote_path}\")\n",
        "                    continue\n",
        "                except Exception:\n",
        "                    pass\n",
        "\n",
        "            mime_type = magic.from_file(str(file_path), mime=True)\n",
        "\n",
        "            with open(file_path, 'rb') as file_object:\n",
        "                client.storage.from_(bucket_name).upload(\n",
        "                    remote_path,\n",
        "                    file_object,\n",
        "                    file_options={\"content-type\": mime_type, \"x-upsert\": \"true\"}\n",
        "                )\n",
        "        except Exception as e:\n",
        "            print(f\"\\nError uploading {file_path}: {str(e)}\")\n",
        "\n",
        "    print(f\"\\nCompleted uploading files to bucket '{bucket_name}'\")"
      ],
      "metadata": {
        "id": "wCzgLdPYZvLF"
      },
      "execution_count": null,
      "outputs": []
    }
  ]
}